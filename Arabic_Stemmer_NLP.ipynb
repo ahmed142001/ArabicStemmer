{
  "nbformat": 4,
  "nbformat_minor": 0,
  "metadata": {
    "colab": {
      "provenance": [],
      "authorship_tag": "ABX9TyNfshV4VaTYwxPpETI/UWjU",
      "include_colab_link": true
    },
    "kernelspec": {
      "name": "python3",
      "display_name": "Python 3"
    },
    "language_info": {
      "name": "python"
    }
  },
  "cells": [
    {
      "cell_type": "markdown",
      "metadata": {
        "id": "view-in-github",
        "colab_type": "text"
      },
      "source": [
        "<a href=\"https://colab.research.google.com/github/ahmed142001/ArabicStemmer/blob/main/Arabic_Stemmer_NLP.ipynb\" target=\"_parent\"><img src=\"https://colab.research.google.com/assets/colab-badge.svg\" alt=\"Open In Colab\"/></a>"
      ]
    },
    {
      "cell_type": "code",
      "execution_count": null,
      "metadata": {
        "colab": {
          "base_uri": "https://localhost:8080/"
        },
        "id": "vRpm8hyEaC6L",
        "outputId": "38671937-a85b-4924-a1c9-941ad795dca9"
      },
      "outputs": [
        {
          "output_type": "stream",
          "name": "stdout",
          "text": [
            "Looking in indexes: https://pypi.org/simple, https://us-python.pkg.dev/colab-wheels/public/simple/\n",
            "Collecting farasapy\n",
            "  Downloading farasapy-0.0.14-py3-none-any.whl (11 kB)\n",
            "Requirement already satisfied: requests in /usr/local/lib/python3.10/dist-packages (from farasapy) (2.27.1)\n",
            "Requirement already satisfied: tqdm in /usr/local/lib/python3.10/dist-packages (from farasapy) (4.65.0)\n",
            "Requirement already satisfied: idna<4,>=2.5 in /usr/local/lib/python3.10/dist-packages (from requests->farasapy) (3.4)\n",
            "Requirement already satisfied: charset-normalizer~=2.0.0 in /usr/local/lib/python3.10/dist-packages (from requests->farasapy) (2.0.12)\n",
            "Requirement already satisfied: certifi>=2017.4.17 in /usr/local/lib/python3.10/dist-packages (from requests->farasapy) (2022.12.7)\n",
            "Requirement already satisfied: urllib3<1.27,>=1.21.1 in /usr/local/lib/python3.10/dist-packages (from requests->farasapy) (1.26.15)\n",
            "Installing collected packages: farasapy\n",
            "Successfully installed farasapy-0.0.14\n"
          ]
        }
      ],
      "source": [
        "pip install -U farasapy"
      ]
    },
    {
      "cell_type": "code",
      "source": [
        "pip install snowballstemmer"
      ],
      "metadata": {
        "colab": {
          "base_uri": "https://localhost:8080/"
        },
        "id": "QWxoGGQJnoCI",
        "outputId": "61309bf5-69a9-433e-c83c-8d14f411a465"
      },
      "execution_count": null,
      "outputs": [
        {
          "output_type": "stream",
          "name": "stdout",
          "text": [
            "Looking in indexes: https://pypi.org/simple, https://us-python.pkg.dev/colab-wheels/public/simple/\n",
            "Requirement already satisfied: snowballstemmer in /usr/local/lib/python3.10/dist-packages (2.2.0)\n"
          ]
        }
      ]
    },
    {
      "cell_type": "code",
      "source": [
        "pip install Tashaphyne "
      ],
      "metadata": {
        "colab": {
          "base_uri": "https://localhost:8080/"
        },
        "id": "igG6hsyUnrgG",
        "outputId": "b7aec9b1-04df-45d4-ea40-97a018a0f4aa"
      },
      "execution_count": null,
      "outputs": [
        {
          "output_type": "stream",
          "name": "stdout",
          "text": [
            "Looking in indexes: https://pypi.org/simple, https://us-python.pkg.dev/colab-wheels/public/simple/\n",
            "Collecting Tashaphyne\n",
            "  Downloading Tashaphyne-0.3.6-py3-none-any.whl (251 kB)\n",
            "\u001b[2K     \u001b[90m━━━━━━━━━━━━━━━━━━━━━━━━━━━━━━━━━━━━━━━\u001b[0m \u001b[32m251.5/251.5 kB\u001b[0m \u001b[31m4.6 MB/s\u001b[0m eta \u001b[36m0:00:00\u001b[0m\n",
            "\u001b[?25hCollecting pyarabic\n",
            "  Downloading PyArabic-0.6.15-py3-none-any.whl (126 kB)\n",
            "\u001b[2K     \u001b[90m━━━━━━━━━━━━━━━━━━━━━━━━━━━━━━━━━━━━━━\u001b[0m \u001b[32m126.4/126.4 kB\u001b[0m \u001b[31m15.8 MB/s\u001b[0m eta \u001b[36m0:00:00\u001b[0m\n",
            "\u001b[?25hRequirement already satisfied: six>=1.14.0 in /usr/local/lib/python3.10/dist-packages (from pyarabic->Tashaphyne) (1.16.0)\n",
            "Installing collected packages: pyarabic, Tashaphyne\n",
            "Successfully installed Tashaphyne-0.3.6 pyarabic-0.6.15\n"
          ]
        }
      ]
    },
    {
      "cell_type": "code",
      "source": [
        "import re"
      ],
      "metadata": {
        "id": "DkGWpwQNaHwr"
      },
      "execution_count": null,
      "outputs": []
    },
    {
      "cell_type": "code",
      "source": [
        "def pre(word):\n",
        "    for x in range(3):\n",
        "        word = re.sub(\"أ\",\"ا\", word)\n",
        "        word = re.sub(\"آ\",\"ا\", word)\n",
        "        word = re.sub(\"ي\", \"ى\", word)\n",
        "        word = re.sub(\"ؤ\", \"ء\", word)\n",
        "        word = re.sub(\"ئ\", \"ء\", word)\n",
        "        word = re.sub(\"ة\", \"ه\", word)\n",
        "        word = re.sub(\"ك\", \"گ\", word)\n",
        "    return word\n",
        "\n",
        "print(\"preprocessed :\" + \"\" + pre(\"يأتي\"))"
      ],
      "metadata": {
        "colab": {
          "base_uri": "https://localhost:8080/"
        },
        "id": "Yn9aXz3XZ8Gk",
        "outputId": "b9a8c72c-d28e-4700-dc04-ecfa0d57720c"
      },
      "execution_count": null,
      "outputs": [
        {
          "output_type": "stream",
          "name": "stdout",
          "text": [
            "preprocessed :ىاتى\n"
          ]
        }
      ]
    },
    {
      "cell_type": "code",
      "source": [
        "#prefix\n",
        "p1=['ا','ل','ب','و','ف','س','ى','ت']\n",
        "p2=['اى','ون','فى','فب','فت','لي','فن','وب','فا','ول','وو','اف','لا','ات','وى','وت','اا','ال','ست','سى','يس','يت','گت','ىى','تت']\n",
        "p3=['مست','ولت','فلى','فلن','فلل','فهو','فهم','فال','ىست','تست','است','فهى','سيا','فلا','ءست','بمس','لىت']\n",
        "p4=['اتست','اىست','فاست','ءاست','انهم','ءانى','والم','باست','گمست','والا']\n",
        "p5=['فلىست','الاست','افاست']\n",
        "def pref(word):\n",
        "    \n",
        "    if len(word)>=4:\n",
        "        if word[0:1] in p1:\n",
        "            word=word.replace(word[0:1],\"\")            \n",
        "    if len(word)>=5:\n",
        "        if word[0:2] in p2:\n",
        "             word=word.replace(word[0:2],\"\")\n",
        "    if len(word)>=6:\n",
        "        if word[0:3] in p3:\n",
        "            word=word.replace(word[0:3],\"\")\n",
        "    if len(word)>=7:\n",
        "        if word[0:4] in p4:\n",
        "            word=word.replace(word[0:4],\"\")\n",
        "    if len(word)>=8:\n",
        "        if word[0:5] in p5:\n",
        "            word=word.replace(word[0:5],\"\")\n",
        "    return word"
      ],
      "metadata": {
        "id": "n1kphfRIa2Gy"
      },
      "execution_count": null,
      "outputs": []
    },
    {
      "cell_type": "code",
      "source": [
        "#suffixes\n",
        "s1=['ت','گ','ى','ه']\n",
        "s2=['وا','ون','هن','ان','وك','اك','اه','ها','هم','كن','ات','ىن']\n",
        "s3=['تنا','نها','تان','ناگ','ونه','ناه','هما','وعا','نهم','وهم','ونى','وعن','تها','تهم','نگم','هات','هان','تان','تهن','وگم','ونه','ونگ','انگ']\n",
        "s4=['موهم','موهن','ناگم','نوهن','ونهم','ناهم','ونگم','توهم','اتها','اتهم','يانه','اءهم']\n",
        "s5=['گموها','ناهما','ناگمو']\n",
        "def suff(word):\n",
        "    for x in range(len(word)):\n",
        "        if len(word)>=4:\n",
        "            if word[-1:] in s1 :\n",
        "                word=word.replace(word[-1:],\"\")\n",
        "                return word\n",
        "                \n",
        "        if len(word)>=5:\n",
        "            if word[-2:] in s2 :\n",
        "                word=word.replace(word[-2:],\"\")  \n",
        "                return word\n",
        "                \n",
        "        if len(word)>=6:\n",
        "            if word[-3:] in s3 :\n",
        "                word=word.replace(word[-3:],\"\")\n",
        "                return word\n",
        "                \n",
        "        if len(word)>=7:\n",
        "            if word[-4:] in s4 :\n",
        "                word=word.replace(word[-4:],\"\")\n",
        "                return word \n",
        "                \n",
        "        if len(word)>=8:\n",
        "            if word[-5:] in s5 :\n",
        "                word=word.replace(word[-5:],\"\")\n",
        "                return word\n",
        "                \n",
        "    return word"
      ],
      "metadata": {
        "id": "HTzdC2vpbBFy"
      },
      "execution_count": null,
      "outputs": []
    },
    {
      "cell_type": "code",
      "source": [
        "\n",
        "extras = ['بال','فال','وال','كال','ولل','ال','ل','ال', 'لي','ل',' ا',' فبال','لبال','وبال']\n",
        "def Def_extras_removal(word):\n",
        "    if word[0:1] in extras :\n",
        "        word=word.replace(word[0:1],\"\")\n",
        "        \n",
        "    if word[0:2] in extras :\n",
        "        word=word.replace(word[0:2],\"\")\n",
        "    \n",
        "    if word[0:3] in extras :\n",
        "        word=word.replace(word[0:3],\"\")\n",
        "        \n",
        "    return word\n"
      ],
      "metadata": {
        "id": "R-R5IzHpklfo"
      },
      "execution_count": null,
      "outputs": []
    },
    {
      "cell_type": "code",
      "source": [
        "def stemmer_Scratch(word):\n",
        "  s1=pre(word)\n",
        "  s2=Def_extras_removal(s1)\n",
        "  s3=pref(s2)\n",
        "  stemmed=suff(s3)\n",
        "  return stemmed"
      ],
      "metadata": {
        "id": "isFOzSJkgNpn"
      },
      "execution_count": null,
      "outputs": []
    },
    {
      "cell_type": "code",
      "source": [
        "original=\"يلعبون الاولاد يهتمون بالوقت يذهبون\"\n",
        "s=original.split()\n",
        "\n",
        "\n",
        "for i in s:\n",
        "  stemmed = stemmer_Scratch(i)\n",
        "  print(stemmed)  \n"
      ],
      "metadata": {
        "colab": {
          "base_uri": "https://localhost:8080/"
        },
        "id": "DziAartIgnxg",
        "outputId": "f6760907-ff23-4d8a-b266-60c1306ea036"
      },
      "execution_count": null,
      "outputs": [
        {
          "output_type": "stream",
          "name": "stdout",
          "text": [
            "لعب\n",
            "ولد\n",
            "هتم\n",
            "وقت\n",
            "ذهب\n"
          ]
        }
      ]
    },
    {
      "cell_type": "code",
      "source": [
        "from farasa.stemmer import FarasaStemmer\n",
        "stemmer_farasa = FarasaStemmer()\n"
      ],
      "metadata": {
        "id": "ClO0qm8WaPCv",
        "colab": {
          "base_uri": "https://localhost:8080/"
        },
        "outputId": "aa797fac-1b8a-4115-b968-3458092a4f17"
      },
      "execution_count": null,
      "outputs": [
        {
          "output_type": "stream",
          "name": "stderr",
          "text": [
            "/usr/local/lib/python3.10/dist-packages/urllib3/connectionpool.py:1045: InsecureRequestWarning: Unverified HTTPS request is being made to host 'farasa-api.qcri.org'. Adding certificate verification is strongly advised. See: https://urllib3.readthedocs.io/en/1.26.x/advanced-usage.html#ssl-warnings\n",
            "  warnings.warn(\n"
          ]
        },
        {
          "output_type": "stream",
          "name": "stdout",
          "text": [
            "100%|██████████| 241M/241M [00:22<00:00, 10.7MiB/s]\n"
          ]
        }
      ]
    },
    {
      "cell_type": "code",
      "source": [
        "from tashaphyne.stemming import ArabicLightStemmer\n",
        "stemmer_tashaphyne=ArabicLightStemmer()"
      ],
      "metadata": {
        "id": "as6leEhInEeA"
      },
      "execution_count": null,
      "outputs": []
    },
    {
      "cell_type": "code",
      "source": [
        "from snowballstemmer import stemmer\n",
        "stemmer_Assem = stemmer(\"arabic\")"
      ],
      "metadata": {
        "id": "affg8g2LpXkI"
      },
      "execution_count": null,
      "outputs": []
    },
    {
      "cell_type": "code",
      "source": [
        "sample=\"يلعبون\"\n",
        "stemmed_farasa = stemmer_farasa.stem(sample)\n",
        "print(\"stemmed by farasa: \",stemmed_farasa)\n",
        "stemmed_tashaphyne=stemmer_tashaphyne.light_stem(sample)\n",
        "print(\"stemmed by tashaphyne: \",stemmed_tashaphyne)\n",
        "stemmed_Assem=stemmer_Assem.stemWord(sample)\n",
        "print(\"stemmed by Assem: \",stemmed_Assem)\n",
        "stemmed_scratch=stemmer_Scratch(sample)\n",
        "print(\"stemmed from scratch : \",stemmed_scratch)"
      ],
      "metadata": {
        "colab": {
          "base_uri": "https://localhost:8080/"
        },
        "id": "sEvcihzDnBTY",
        "outputId": "425e7dae-fdca-4f1c-c398-da085bf9e6a7"
      },
      "execution_count": null,
      "outputs": [
        {
          "output_type": "stream",
          "name": "stdout",
          "text": [
            "stemmed by farasa:  لعب\n",
            "stemmed by tashaphyne:  لعب\n",
            "stemmed by Assem:  يلعب\n",
            "stemmed from scratch :  لعب\n"
          ]
        }
      ]
    },
    {
      "cell_type": "code",
      "source": [
        "sample=\"الاولاد\"\n",
        "stemmed_farasa = stemmer_farasa.stem(sample)\n",
        "print(\"stemmed by farasa: \",stemmed_farasa)\n",
        "stemmed_tashaphyne=stemmer_tashaphyne.light_stem(sample)\n",
        "print(\"stemmed by tashaphyne: \",stemmed_tashaphyne)\n",
        "stemmed_Assem=stemmer_Assem.stemWord(sample)\n",
        "print(\"stemmed by Assem: \",stemmed_Assem)\n",
        "stemmed_scratch=stemmer_Scratch(sample)\n",
        "print(\"stemmed from scratch : \",stemmed_scratch)"
      ],
      "metadata": {
        "id": "19IKOnmRF6yY",
        "outputId": "12f3b5b1-8642-4783-a829-e3318017fd9a",
        "colab": {
          "base_uri": "https://localhost:8080/"
        }
      },
      "execution_count": null,
      "outputs": [
        {
          "output_type": "stream",
          "name": "stdout",
          "text": [
            "stemmed by farasa:  ولد\n",
            "stemmed by tashaphyne:  اولاد\n",
            "stemmed by Assem:  اولاد\n",
            "stemmed from scratch :  ولد\n"
          ]
        }
      ]
    }
  ]
}